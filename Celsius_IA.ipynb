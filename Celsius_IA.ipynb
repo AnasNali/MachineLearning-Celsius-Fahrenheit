{
  "nbformat": 4,
  "nbformat_minor": 0,
  "metadata": {
    "colab": {
      "name": "Celsius IA.ipynb",
      "provenance": []
    },
    "kernelspec": {
      "name": "python3",
      "display_name": "Python 3"
    },
    "language_info": {
      "name": "python"
    }
  },
  "cells": [
    {
      "cell_type": "markdown",
      "metadata": {
        "id": "m_GjeH7mqvvU"
      },
      "source": [
        "Utilizaremos las librerias TensorFlow y Numpy para poder entrenar la IA y representar graficamente los intentos realizados"
      ]
    },
    {
      "cell_type": "code",
      "metadata": {
        "id": "tuV2MWRw0QVH"
      },
      "source": [
        "import tensorflow as tf\n",
        "import numpy as np"
      ],
      "execution_count": null,
      "outputs": []
    },
    {
      "cell_type": "markdown",
      "metadata": {
        "id": "ypJCjLHIrDPg"
      },
      "source": [
        "Añadimos el data set con el que vamos a entrenar la IA, en este caso solo vamos a utilizar 7 datos con su correspondiente conversión, cuantos más datos aportemos mejor."
      ]
    },
    {
      "cell_type": "code",
      "metadata": {
        "id": "KbVwgghc0dE0"
      },
      "source": [
        "celsius = np.array([-40, -10, 0 , 8, 15, 22, 38], dtype = float)\n",
        "fahrenheit = np.array([-40, 14, 32, 46, 59, 72, 100], dtype=float)"
      ],
      "execution_count": null,
      "outputs": []
    },
    {
      "cell_type": "markdown",
      "metadata": {
        "id": "Oq2Fh84RtEQk"
      },
      "source": [
        ""
      ]
    },
    {
      "cell_type": "code",
      "metadata": {
        "id": "XmHTaZay1DpM"
      },
      "source": [
        "capa = tf.keras.layers.Dense(units = 1, input_shape=[1])\n",
        "modelo = tf.keras.Sequential([capa])"
      ],
      "execution_count": null,
      "outputs": []
    },
    {
      "cell_type": "code",
      "metadata": {
        "id": "z-Dwt_Uo1WJa"
      },
      "source": [
        "modelo.compile(\n",
        "    optimizer = tf.keras.optimizers.Adam(0.1), \n",
        "    loss= 'mean_squared_error'\n",
        ")"
      ],
      "execution_count": null,
      "outputs": []
    },
    {
      "cell_type": "code",
      "metadata": {
        "colab": {
          "base_uri": "https://localhost:8080/"
        },
        "id": "BHM65mRn1m_D",
        "outputId": "22a9f36f-8a80-49e8-f152-b7e64b79bcb1"
      },
      "source": [
        "print(\"Comienza el entrenamiento...\")\n",
        "historial = modelo.fit(celsius, fahrenheit, epochs = 500, verbose=False)\n",
        "print(\"Modelo entrenado!\")\n"
      ],
      "execution_count": null,
      "outputs": [
        {
          "output_type": "stream",
          "name": "stdout",
          "text": [
            "Comienza el entrenamiento...\n",
            "Modelo entrenado!\n"
          ]
        }
      ]
    },
    {
      "cell_type": "code",
      "metadata": {
        "colab": {
          "base_uri": "https://localhost:8080/",
          "height": 296
        },
        "id": "rh1H18mQ2Lpo",
        "outputId": "60dd0020-0fe6-44d9-cb3f-693f108b3b52"
      },
      "source": [
        "import matplotlib.pyplot as plt\n",
        "plt.xlabel(\"# Intento\")\n",
        "plt.ylabel(\"Grado de pérdida\")\n",
        "plt.plot(historial.history[\"loss\"])"
      ],
      "execution_count": null,
      "outputs": [
        {
          "output_type": "execute_result",
          "data": {
            "text/plain": [
              "[<matplotlib.lines.Line2D at 0x7f1852d93390>]"
            ]
          },
          "metadata": {},
          "execution_count": 14
        },
        {
          "output_type": "display_data",
          "data": {
            "image/png": "[encoded data removed]",
            "text/plain": [
              "<Figure size 432x288 with 1 Axes>"
            ]
          },
          "metadata": {
            "needs_background": "light"
          }
        }
      ]
    },
    {
      "cell_type": "code",
      "metadata": {
        "colab": {
          "base_uri": "https://localhost:8080/"
        },
        "id": "wFPSjUPl2j7B",
        "outputId": "37136a27-6180-4962-dc41-b81e6972f8e7"
      },
      "source": [
        "print(\"Calculando prediccion...\")\n",
        "resultado = modelo.predict([100.0])\n",
        "print(\"El resultado es \"+ str(resultado)+ \" fahrenheit\")"
      ],
      "execution_count": null,
      "outputs": [
        {
          "output_type": "stream",
          "name": "stdout",
          "text": [
            "Calculando prediccion...\n",
            "El resultado es [[211.33385]] fahrenheit\n"
          ]
        }
      ]
    },
    {
      "cell_type": "code",
      "metadata": {
        "colab": {
          "base_uri": "https://localhost:8080/"
        },
        "id": "R7NAEshm3uv1",
        "outputId": "d1f28de9-0f7c-4352-8330-3e520bb3fb5a"
      },
      "source": [
        "print(\"Variables internas del modelo\")\n",
        "print(capa.get_weights())"
      ],
      "execution_count": null,
      "outputs": [
        {
          "output_type": "stream",
          "name": "stdout",
          "text": [
            "Variables internas del modelo\n",
            "[array([[1.8211862]], dtype=float32), array([29.215225], dtype=float32)]\n"
          ]
        }
      ]
    }
  ]
}